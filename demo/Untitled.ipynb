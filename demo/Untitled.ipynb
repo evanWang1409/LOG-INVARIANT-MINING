{
 "cells": [
  {
   "cell_type": "code",
   "execution_count": 1,
   "metadata": {
    "collapsed": true
   },
   "outputs": [],
   "source": [
    "import sys\n",
    "sys.path.append('../')\n",
    "from loglizer.models import InvariantsMiner\n",
    "from loglizer import dataloader, preprocessing"
   ]
  },
  {
   "cell_type": "code",
   "execution_count": 2,
   "metadata": {
    "collapsed": true
   },
   "outputs": [],
   "source": [
    "import pandas as pd\n",
    "import os\n",
    "import numpy as np\n",
    "import re\n",
    "from sklearn.utils import shuffle\n",
    "from collections import OrderedDict"
   ]
  },
  {
   "cell_type": "code",
   "execution_count": 3,
   "metadata": {
    "collapsed": true
   },
   "outputs": [],
   "source": [
    "log_file = '/Users/evnw/Documents/GitHub/loglizer/data/HDFS/HDFS_100k.log_structured.csv'\n",
    "struct_log = pd.read_csv(log_file, engine='c',\n",
    "                na_filter=False, memory_map=True)"
   ]
  },
  {
   "cell_type": "code",
   "execution_count": 7,
   "metadata": {},
   "outputs": [],
   "source": [
    "data_dict = OrderedDict()\n",
    "for idx, row in struct_log.iterrows():\n",
    "    blkId_list = re.findall(r'(blk_-?\\d+)', row['Content'])\n",
    "    blkId_set = set(blkId_list)\n",
    "    for blk_Id in blkId_set:\n",
    "        if not blk_Id in data_dict:\n",
    "            data_dict[blk_Id] = []\n",
    "        data_dict[blk_Id].append(row['EventId'])"
   ]
  },
  {
   "cell_type": "code",
   "execution_count": 12,
   "metadata": {},
   "outputs": [
    {
     "name": "stdout",
     "output_type": "stream",
     "text": [
      "19\n",
      "104815\n",
      "7940\n"
     ]
    }
   ],
   "source": [
    "cnt = struct_log['EventId'].value_counts()\n",
    "print(len(cnt))\n",
    "print(len(struct_log))\n",
    "print(len(data_dict.keys()))"
   ]
  },
  {
   "cell_type": "code",
   "execution_count": 14,
   "metadata": {},
   "outputs": [],
   "source": [
    "import collections\n",
    "lenCnt = collections.Counter()\n",
    "for key in data_dict.keys():\n",
    "    lenCnt[len(data_dict[key])] += 1"
   ]
  },
  {
   "cell_type": "code",
   "execution_count": 15,
   "metadata": {},
   "outputs": [
    {
     "name": "stdout",
     "output_type": "stream",
     "text": [
      "Counter({13: 6335, 14: 954, 15: 252, 16: 249, 4: 64, 2: 59, 20: 21, 32: 1, 8: 1, 17: 1, 24: 1, 216: 1, 249: 1})\n"
     ]
    }
   ],
   "source": [
    "print(lenCnt)"
   ]
  },
  {
   "cell_type": "code",
   "execution_count": null,
   "metadata": {
    "collapsed": true
   },
   "outputs": [],
   "source": []
  }
 ],
 "metadata": {
  "kernelspec": {
   "display_name": "'Python Interactive'",
   "language": "python",
   "name": "8c602af1-fee2-457c-90d7-c0db5a608002"
  },
  "language_info": {
   "codemirror_mode": {
    "name": "ipython",
    "version": 3
   },
   "file_extension": ".py",
   "mimetype": "text/x-python",
   "name": "python",
   "nbconvert_exporter": "python",
   "pygments_lexer": "ipython3",
   "version": "3.5.6"
  }
 },
 "nbformat": 4,
 "nbformat_minor": 2
}
